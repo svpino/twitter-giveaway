{
  "nbformat": 4,
  "nbformat_minor": 0,
  "metadata": {
    "colab": {
      "name": "giveaway.ipynb",
      "provenance": [],
      "collapsed_sections": [],
      "toc_visible": true,
      "authorship_tag": "ABX9TyOLMQvIz/9D/E7He7DwDGeh",
      "include_colab_link": true
    },
    "kernelspec": {
      "name": "python3",
      "display_name": "Python 3"
    },
    "accelerator": "GPU"
  },
  "cells": [
    {
      "cell_type": "markdown",
      "metadata": {
        "id": "view-in-github",
        "colab_type": "text"
      },
      "source": [
        "<a href=\"https://colab.research.google.com/github/svpino/twitter-giveaway/blob/master/giveaway.ipynb\" target=\"_parent\"><img src=\"https://colab.research.google.com/assets/colab-badge.svg\" alt=\"Open In Colab\"/></a>"
      ]
    },
    {
      "cell_type": "markdown",
      "metadata": {
        "id": "eEQ0SIF2PUDF",
        "colab_type": "text"
      },
      "source": [
        "# Selecting The Winner of a Twitter Giveaway\n",
        "\n",
        "This is an absolutely over-engineered solution to select the winner of a Twitter Giveaway I ran on August 18, 2020.\n",
        "\n",
        "I didn't just want to select somebody randomly as any sane person would do. Instead, I tried to use the opportunity and throw some Deep Learning into the mix. \n",
        "\n",
        "But of course, there's no way to use Deep Learning in any useful way when the only thing you need is a freaking random number, so I decided to start doing silly things.\n",
        "\n",
        "This notebook runs through the entire process to select the winner. \n",
        "\n"
      ]
    },
    {
      "cell_type": "code",
      "metadata": {
        "id": "GOS-cO6Eh-F5",
        "colab_type": "code",
        "colab": {}
      },
      "source": [
        "import numpy as np\n",
        "import pandas as pd\n",
        "import tensorflow as tf\n",
        "import matplotlib.pyplot as plt\n",
        "\n",
        "from tensorflow.keras.models import Sequential\n",
        "from tensorflow.keras.layers import Flatten, Conv2D, Dense, MaxPooling2D\n",
        "from tensorflow.keras.optimizers import SGD\n",
        "from tensorflow.keras.utils import to_categorical\n",
        "from tensorflow.keras.datasets import mnist"
      ],
      "execution_count": 1,
      "outputs": []
    },
    {
      "cell_type": "markdown",
      "metadata": {
        "id": "KYH3v1-irFX7",
        "colab_type": "text"
      },
      "source": [
        "# Configuration\n",
        "\n",
        "Here are a bunch of constants that —if you want to use this code for anything— you'll need to provide:\n",
        "\n",
        "* **Twitter's API authentication keys and tokens**. To get this information you need to register an account on https://developers.twitter.com.\n",
        "\n",
        "* **USER**: This is your Twitter handle. \n",
        "\n",
        "* **STATUS**: This is the identifier of the specific tweet of the giveaway."
      ]
    },
    {
      "cell_type": "code",
      "metadata": {
        "id": "Sh2XR1W-vur8",
        "colab_type": "code",
        "colab": {}
      },
      "source": [
        "API_KEY = \"<API_KEY>\"\n",
        "API_KEY_SECRET = \"<API_KEY_SECRET>\"\n",
        "ACCESS_TOKEN = \"<ACCESS_TOKEN>\"\n",
        "ACCESS_TOKEN_SECRET = \"<ACCESS_TOKEN_SECRET>\"\n",
        "\n",
        "USER = \"<USER SCREEN NAME>\"\n",
        "STATUS = 0 #<ID OF THE GIVEAWAY TWEET>"
      ],
      "execution_count": 2,
      "outputs": []
    },
    {
      "cell_type": "markdown",
      "metadata": {
        "id": "VvoWjWlxsE_l",
        "colab_type": "text"
      },
      "source": [
        "# Deep Learning\n",
        "\n",
        "The function here are all related to the image classification problem (basically taking hand-written numbers and returning the actual numbers that they represent.)"
      ]
    },
    {
      "cell_type": "code",
      "metadata": {
        "id": "uXNkHnGDqa74",
        "colab_type": "code",
        "colab": {}
      },
      "source": [
        "def create_model():\n",
        "    \"\"\"\n",
        "    Creates the TensorFlow model that will be used to predict digits given\n",
        "    an image.\n",
        "    \"\"\"\n",
        "\n",
        "    model = Sequential([\n",
        "        Conv2D(32, (3, 3), activation='relu', input_shape=(28, 28, 1)),\n",
        "        MaxPooling2D((2, 2)),\n",
        "        Conv2D(64, (3, 3), activation='relu'),\n",
        "        Conv2D(64, (3, 3), activation='relu'),\n",
        "        MaxPooling2D((2, 2)),\n",
        "        Flatten(),\n",
        "        Dense(100, activation='relu'),\n",
        "        Dense(10, activation='softmax')\n",
        "    ])\n",
        "    \n",
        "    optimizer = SGD(learning_rate=0.01, momentum=0.9)\n",
        "    model.compile(\n",
        "        optimizer=optimizer, \n",
        "        loss='categorical_crossentropy', \n",
        "        metrics=['accuracy']\n",
        "    )\n",
        "\n",
        "    return model\n",
        "\n",
        "def display_image(image):\n",
        "    \"\"\"\n",
        "    Displays the given image on the screen.\n",
        "    \"\"\"\n",
        "\n",
        "    plt.imshow(image, cmap=plt.get_cmap('gray'))\n",
        "\n",
        "def transform(image):\n",
        "    \"\"\"\n",
        "    Transforms an image into the format understood by the model.\n",
        "    \"\"\"\n",
        "\n",
        "    image = image.reshape((1, 28, 28, 1))\n",
        "    image = image.astype('float32') / 255.0\n",
        "    return image\n",
        "\n",
        "def train(model, x_train, y_train):\n",
        "    \"\"\"\n",
        "    Fits the given model using the training dataset.\n",
        "    \"\"\"\n",
        "\n",
        "    x_train = x_train.reshape((x_train.shape[0], 28, 28, 1))\n",
        "    x_train = x_train.astype('float32') / 255.0\n",
        "    y_train = to_categorical(y_train)\n",
        "\n",
        "    model.fit(\n",
        "        x_train, \n",
        "        y_train, \n",
        "        epochs=10, \n",
        "        batch_size=32, \n",
        "        verbose=1\n",
        "    )\n",
        "\n",
        "def predict(model, image):\n",
        "    \"\"\"\n",
        "    Returns the digit represented by the supplied image using the \n",
        "    given model.\n",
        "    \"\"\"\n",
        "\n",
        "    return np.argmax(model.predict(transform(image))[0], axis=-1)"
      ],
      "execution_count": 3,
      "outputs": []
    },
    {
      "cell_type": "markdown",
      "metadata": {
        "id": "FXFwGckNtTaf",
        "colab_type": "text"
      },
      "source": [
        "## Loading the dataset\n",
        "\n",
        "We are going to be using the mnist dataset. We load it, and display the first few images to get an idea of what's in it."
      ]
    },
    {
      "cell_type": "code",
      "metadata": {
        "id": "M6C56bkFrzbs",
        "colab_type": "code",
        "colab": {}
      },
      "source": [
        "(x_train, y_train), (x_test, y_test) = mnist.load_data()\n",
        "\n",
        "for i in range(9):\n",
        "    plt.subplot(330 + 1 + i)\n",
        "    display_image(x_train[i])\n",
        "\n",
        "plt.show()\n",
        "\n",
        "print(f\"Training images: {x_train.shape[0]}. Test images: {x_test.shape[0]}.\")"
      ],
      "execution_count": null,
      "outputs": []
    },
    {
      "cell_type": "markdown",
      "metadata": {
        "id": "ONaifgyTthsJ",
        "colab_type": "text"
      },
      "source": [
        "## Creating the model\n",
        "\n",
        "We can now create the model and display a summary of its architecture."
      ]
    },
    {
      "cell_type": "code",
      "metadata": {
        "id": "wewwFXwMjF0v",
        "colab_type": "code",
        "colab": {}
      },
      "source": [
        "model = create_model()\n",
        "model.summary()"
      ],
      "execution_count": null,
      "outputs": []
    },
    {
      "cell_type": "markdown",
      "metadata": {
        "id": "0SsgaeHAtsnQ",
        "colab_type": "text"
      },
      "source": [
        "## Training\n",
        "\n",
        "Here we are going to train the model using the training dataset."
      ]
    },
    {
      "cell_type": "code",
      "metadata": {
        "id": "b7kN_h9Hjzud",
        "colab_type": "code",
        "colab": {}
      },
      "source": [
        "train(model, x_train, y_train)"
      ],
      "execution_count": null,
      "outputs": []
    },
    {
      "cell_type": "markdown",
      "metadata": {
        "id": "5eRFZw5ot0Cm",
        "colab_type": "text"
      },
      "source": [
        "# Twitter\n",
        "\n",
        "Let's now define the functions that we are going to use to access the Twitter API."
      ]
    },
    {
      "cell_type": "code",
      "metadata": {
        "id": "S60Kg7p6xLVS",
        "colab_type": "code",
        "colab": {}
      },
      "source": [
        "import tweepy\n",
        "import time\n",
        "import random\n",
        "\n",
        "def authenticate():\n",
        "    \"\"\" \n",
        "    This function authenticates with the Twitter API using our keys and\n",
        "    returns the object that we need to use to interact with the API.\n",
        "    \"\"\"\n",
        "\n",
        "    auth = tweepy.OAuthHandler(API_KEY, API_KEY_SECRET)\n",
        "    auth.set_access_token(ACCESS_TOKEN, ACCESS_TOKEN_SECRET)\n",
        "    return tweepy.API(auth, wait_on_rate_limit=True)\n",
        "\n",
        "def get_followers(api):\n",
        "    \"\"\"\n",
        "    This function returns the list of followers of a given user as specified\n",
        "    by the supplied user id.\n",
        "    \"\"\"\n",
        "\n",
        "    followers = []\n",
        "    for page in tweepy.Cursor(api.followers_ids, screen_name=USER).pages():\n",
        "        followers.extend(page)\n",
        "\n",
        "        # We are able to return 5,000 users on every call, so we need to make\n",
        "        # a few calls to get the entire list. Let's make sure we sleep for a\n",
        "        # little bit to avoid getting throtled by Twitter's API.\n",
        "        time.sleep(60)\n",
        "\n",
        "    return followers\n",
        "\n",
        "def did_user_like_tweet(user_id, status_id):\n",
        "    \"\"\"\n",
        "    This function returns True if the supplied user liked the supplied \n",
        "    status (tweet). Returns False otherwise.\n",
        "    \"\"\"\n",
        "\n",
        "    page = 1\n",
        "\n",
        "    # We are going to be looking through the last 300 tweets that this user\n",
        "    # liked. Yes, there's a chance that this user likes a lot of tweets and\n",
        "    # we get a false negative, but that's unlikely in the context of this\n",
        "    # giveaway.\n",
        "    while page <= 15:\n",
        "        # On every request we can get 20 different likes for this user.\n",
        "        # We need to make sure we keep going through this list until we\n",
        "        # find our status, or until we have looked for long enough.\n",
        "        statuses = api.favorites(id=user_id, page=page)\n",
        "        for status in statuses:\n",
        "            if status.id == status_id:\n",
        "                return True\n",
        "\n",
        "        page += 1\n",
        "\n",
        "    return False\n",
        "\n",
        "def get_user(id):\n",
        "    \"\"\"\n",
        "    This function returns the screen name and full name of a user given\n",
        "    its identifier.\n",
        "    \"\"\"\n",
        "\n",
        "    user = api.get_user(id)\n",
        "    return user.screen_name, user.name"
      ],
      "execution_count": 7,
      "outputs": []
    },
    {
      "cell_type": "markdown",
      "metadata": {
        "id": "jDvEZ4oTuL6t",
        "colab_type": "text"
      },
      "source": [
        "## Followers\n",
        "\n",
        "We can now authenticate with the API and get the list of followers. This process may take a little bit of time because we have to hit the API several times to retrieve the entire list."
      ]
    },
    {
      "cell_type": "code",
      "metadata": {
        "id": "v_Qi8HFdv7bw",
        "colab_type": "code",
        "colab": {}
      },
      "source": [
        "api = authenticate()\n",
        "followers = get_followers(api)\n",
        "\n",
        "print(f\"Number of followers: {len(followers)}\")"
      ],
      "execution_count": null,
      "outputs": []
    },
    {
      "cell_type": "markdown",
      "metadata": {
        "id": "U_bOdIcvudZ0",
        "colab_type": "text"
      },
      "source": [
        "## Retweets\n",
        "\n",
        "Let's now load the CSV containing every single user that retweeted the giveaway. This CSV file is created on a separate application.\n",
        "\n",
        "After having this list, we can get the intersection of the followers and those who retweeted. That list represents everyone who is elegible to receive the price (before checking for likes.)"
      ]
    },
    {
      "cell_type": "code",
      "metadata": {
        "id": "JBCxtsaLyi26",
        "colab_type": "code",
        "colab": {}
      },
      "source": [
        "retweeters = pd.read_csv(\"retweeters.csv\")['0'].tolist()\n",
        "\n",
        "elegible = list(set(followers) & set(retweeters)) "
      ],
      "execution_count": 9,
      "outputs": []
    },
    {
      "cell_type": "markdown",
      "metadata": {
        "id": "Ux5L5WmiPS_F",
        "colab_type": "text"
      },
      "source": [
        ""
      ]
    },
    {
      "cell_type": "markdown",
      "metadata": {
        "id": "Q6-aFaaIu7i1",
        "colab_type": "text"
      },
      "source": [
        "# The Magic Number\n",
        "\n",
        "Before anything else, let's define a couple of functions related to the selection process:\n",
        "\n",
        "* The first function is `generate_magic_number()` and it's an algorithm to create a random number from the list of elegible users.\n",
        "\n",
        "* The second function is `display_magic_number()` that focuses on displaying the magic number on the screen."
      ]
    },
    {
      "cell_type": "code",
      "metadata": {
        "id": "6339IFQcGu1k",
        "colab_type": "code",
        "colab": {}
      },
      "source": [
        "def generate_magic_number(model, followers):\n",
        "    \"\"\"\n",
        "    Given the train model, and the list of elegible followers, this\n",
        "    function generates the \"magic number\", which represents the position\n",
        "    in the list of the winner of the giveaway.\n",
        "    \"\"\"\n",
        "\n",
        "    # First of all, let's generate randomly how many digits we need\n",
        "    # for our magic number. This should go from 1 digit to the total\n",
        "    # number of digits of the total number of followers.\n",
        "    digits = random.randint(1, len(str(len(followers))))\n",
        "\n",
        "    magic_number = \"\"\n",
        "    digit_images = []\n",
        "    for i in range(digits):\n",
        "        # Let's pick a random image from a dataset of 10,000 samples\n",
        "        # and infer the digit that's displayed on the image.\n",
        "        image = random.choice(x_test)\n",
        "        digit = predict(model, image)\n",
        "\n",
        "        # Let's now append the new digit to our magic number and ensure\n",
        "        # the result is not greater the total number of followers.\n",
        "        temp = magic_number + str(digit)\n",
        "        if int(temp) > len(followers):\n",
        "            break\n",
        "        \n",
        "        magic_number = temp\n",
        "        digit_images.append(image)\n",
        "\n",
        "    return int(magic_number), digit_images\n",
        "\n",
        "def display_magic_number(magic_number, digit_images):\n",
        "    \"\"\"\n",
        "    Displays the magic number and the array of images on the screen.\n",
        "    \"\"\"\n",
        "\n",
        "    plt.figure(figsize=(10, 10))\n",
        "\n",
        "    for index, image in enumerate(digit_images):\n",
        "        plt.subplot(1, 5, index + 1)\n",
        "        display_image(image)\n",
        "    \n",
        "    plt.show()\n",
        "\n",
        "    print(f\"Magic number: {magic_number}\")\n"
      ],
      "execution_count": 10,
      "outputs": []
    },
    {
      "cell_type": "markdown",
      "metadata": {
        "id": "5zoTNXUevonh",
        "colab_type": "text"
      },
      "source": [
        "## Selecting the winner\n",
        "\n",
        "This process generates a magic number and checks whether that elegible user liked the giveaway tweet. Since we know that the user is a follower and also retweeted, there's a very high likelihood that it also liked the tweet.\n",
        "\n",
        "If we find a user that didn't like the tweet, we repeat the process until we find one."
      ]
    },
    {
      "cell_type": "code",
      "metadata": {
        "id": "izNmiDbm515s",
        "colab_type": "code",
        "colab": {}
      },
      "source": [
        "# First of all, let's make sure our list of elegible users is properly shuffled.\n",
        "random.shuffle(elegible)\n",
        "\n",
        "# We need to repeat until we find a winner.\n",
        "while True:\n",
        "\n",
        "    # Let's generate a magic number (and also return the images so we\n",
        "    # can show them and it looks cool!)\n",
        "    magic_number, digit_images = generate_magic_number(model, elegible)\n",
        "    display_magic_number(magic_number, digit_images)\n",
        "\n",
        "    # The magic number will give us the potential winner from the list of\n",
        "    # elegible users.\n",
        "    user_id = elegible[magic_number]\n",
        "\n",
        "    # We need to make sure this user liked the giveaway tweet. If it did,\n",
        "    # we found the winner. If it didn't, we need to try again.\n",
        "    liked = did_user_like_tweet(user_id, STATUS)\n",
        "    if liked:\n",
        "        screen_name, name = get_user(user_id)\n",
        "        print(f\"User @{screen_name} ({name}) is the winner!\")\n",
        "        break\n",
        "\n",
        "    print(\"User did not like the tweet. Retrying with a new user\", end=\"\\n\\n\")\n"
      ],
      "execution_count": null,
      "outputs": []
    }
  ]
}
